{
 "cells": [
  {
   "cell_type": "code",
   "execution_count": 1,
   "metadata": {},
   "outputs": [],
   "source": [
    "class Kot:\n",
    "    ile_nog = 4\n",
    "    kolor = None\n",
    "    imie = None\n",
    "    \n",
    "    def __init__(self, nogi, kol, i):\n",
    "        self.ile_nog = nogi\n",
    "        self.kolor = kol\n",
    "        self.imie = i\n",
    "    \n",
    "    def info(self):\n",
    "        print(f\"Jestem kotem {self.imie}, mam kolor {self.kolor} i {self.ile_nog} nogi\")\n",
    "        \n",
    "    def zmien_kolor(self, nowy_kolor):\n",
    "        self.kolor = nowy_kolor\n",
    "    "
   ]
  },
  {
   "cell_type": "code",
   "execution_count": null,
   "metadata": {},
   "outputs": [],
   "source": []
  },
  {
   "cell_type": "code",
   "execution_count": 2,
   "metadata": {},
   "outputs": [
    {
     "name": "stdout",
     "output_type": "stream",
     "text": [
      "Jestem kotem Maurycy, mam kolor rudy i 4 nogi\n"
     ]
    }
   ],
   "source": [
    "k1 = Kot(4, \"rudy\", \"Maurycy\")\n",
    "k1.info()"
   ]
  },
  {
   "cell_type": "code",
   "execution_count": 13,
   "metadata": {},
   "outputs": [
    {
     "data": {
      "text/plain": [
       "<__main__.Kot at 0x197d8d06ce0>"
      ]
     },
     "execution_count": 13,
     "metadata": {},
     "output_type": "execute_result"
    }
   ],
   "source": [
    "k1"
   ]
  },
  {
   "cell_type": "code",
   "execution_count": 3,
   "metadata": {},
   "outputs": [
    {
     "name": "stdout",
     "output_type": "stream",
     "text": [
      "Jestem kotem Kulawy, mam kolor szary i 3 nogi\n"
     ]
    }
   ],
   "source": [
    "k2 = Kot(3, \"szary\", \"Kulawy\")\n",
    "k2.info()"
   ]
  },
  {
   "cell_type": "code",
   "execution_count": 4,
   "metadata": {},
   "outputs": [
    {
     "name": "stdout",
     "output_type": "stream",
     "text": [
      "Jestem kotem Maurycy, mam kolor rudy i 4 nogi\n"
     ]
    }
   ],
   "source": [
    "k1.info()"
   ]
  },
  {
   "cell_type": "code",
   "execution_count": 5,
   "metadata": {},
   "outputs": [],
   "source": [
    "k1.zmien_kolor(\"niebieski\")"
   ]
  },
  {
   "cell_type": "code",
   "execution_count": 6,
   "metadata": {},
   "outputs": [
    {
     "name": "stdout",
     "output_type": "stream",
     "text": [
      "Jestem kotem Maurycy, mam kolor niebieski i 4 nogi\n"
     ]
    }
   ],
   "source": [
    "k1.info()"
   ]
  },
  {
   "cell_type": "code",
   "execution_count": 7,
   "metadata": {},
   "outputs": [
    {
     "name": "stdout",
     "output_type": "stream",
     "text": [
      "Jestem kotem Kulawy, mam kolor szary i 3 nogi\n"
     ]
    }
   ],
   "source": [
    "k2.info()"
   ]
  },
  {
   "cell_type": "code",
   "execution_count": 8,
   "metadata": {},
   "outputs": [
    {
     "data": {
      "text/plain": [
       "'Maurycy'"
      ]
     },
     "execution_count": 8,
     "metadata": {},
     "output_type": "execute_result"
    }
   ],
   "source": [
    "k1.imie"
   ]
  },
  {
   "cell_type": "code",
   "execution_count": 14,
   "metadata": {},
   "outputs": [],
   "source": [
    "class Zwierze:\n",
    "    gatunek = \"\"\n",
    "    nogi = 4\n",
    "    imie = \"\"\n",
    "    \n",
    "    def __init__(self, gatunek, nogi, imie):\n",
    "        self.gatunek = gatunek\n",
    "        self.nogi = nogi\n",
    "        self.imie = imie\n",
    "\n",
    "    def __repr__(self) -> str:\n",
    "        return f\"Jestem {self.gatunek}, o imieniu {self.imie} i {self.nogi} nogach\"\n",
    "    \n",
    "    def daj_glos(self):\n",
    "        pass"
   ]
  },
  {
   "cell_type": "code",
   "execution_count": 15,
   "metadata": {},
   "outputs": [],
   "source": [
    "z1 = Zwierze(\"pies\", 4, \"Azor\")\n",
    "z2 = Zwierze(\"kot\", 4, \"Mruczek\")"
   ]
  },
  {
   "cell_type": "code",
   "execution_count": 11,
   "metadata": {},
   "outputs": [
    {
     "name": "stdout",
     "output_type": "stream",
     "text": [
      "Jestem pies, o imieniu Azor i 4 nogach\n"
     ]
    }
   ],
   "source": [
    "print(z1)"
   ]
  },
  {
   "cell_type": "code",
   "execution_count": 12,
   "metadata": {},
   "outputs": [
    {
     "data": {
      "text/plain": [
       "Jestem kot, o imieniu Mruczek i 4 nogach"
      ]
     },
     "execution_count": 12,
     "metadata": {},
     "output_type": "execute_result"
    }
   ],
   "source": [
    "z2"
   ]
  },
  {
   "cell_type": "code",
   "execution_count": 16,
   "metadata": {},
   "outputs": [],
   "source": [
    "z1.daj_glos()"
   ]
  },
  {
   "cell_type": "code",
   "execution_count": 26,
   "metadata": {},
   "outputs": [],
   "source": [
    "class Kociak(Zwierze):\n",
    "    def __init__(self, nogi, imie):\n",
    "        super().__init__(\"kot\", nogi, imie)\n",
    "        \n",
    "    def daj_glos(self):\n",
    "        print(\"miau\")\n",
    "        \n",
    "class Pies(Zwierze):\n",
    "    def __init__(self, nogi, imie):\n",
    "        super().__init__(\"pies\", nogi, imie)\n",
    "        \n",
    "    def daj_glos(self):\n",
    "        print(\"hau hau\")"
   ]
  },
  {
   "cell_type": "code",
   "execution_count": 28,
   "metadata": {},
   "outputs": [
    {
     "data": {
      "text/plain": [
       "Jestem kot, o imieniu Sierściuch i 4 nogach"
      ]
     },
     "execution_count": 28,
     "metadata": {},
     "output_type": "execute_result"
    }
   ],
   "source": [
    "kot1 = Kociak(4, \"Sierściuch\")\n",
    "kot1\n"
   ]
  },
  {
   "cell_type": "code",
   "execution_count": 29,
   "metadata": {},
   "outputs": [
    {
     "name": "stdout",
     "output_type": "stream",
     "text": [
      "miau\n"
     ]
    }
   ],
   "source": [
    "kot1.daj_glos()"
   ]
  },
  {
   "cell_type": "code",
   "execution_count": 30,
   "metadata": {},
   "outputs": [
    {
     "name": "stdout",
     "output_type": "stream",
     "text": [
      "hau hau\n"
     ]
    }
   ],
   "source": [
    "p1 = Pies(4, \"Szczekuś\")\n",
    "p1.daj_glos()"
   ]
  },
  {
   "cell_type": "code",
   "execution_count": 31,
   "metadata": {},
   "outputs": [
    {
     "data": {
      "text/plain": [
       "[Jestem pies, o imieniu Szczekuś i 4 nogach,\n",
       " Jestem kot, o imieniu Sierściuch i 4 nogach]"
      ]
     },
     "execution_count": 31,
     "metadata": {},
     "output_type": "execute_result"
    }
   ],
   "source": [
    "zoo = [p1, kot1]\n",
    "zoo"
   ]
  },
  {
   "cell_type": "code",
   "execution_count": 32,
   "metadata": {},
   "outputs": [
    {
     "name": "stdout",
     "output_type": "stream",
     "text": [
      "Jestem pies, o imieniu Szczekuś i 4 nogach\n",
      "hau hau\n",
      "---\n",
      "Jestem kot, o imieniu Sierściuch i 4 nogach\n",
      "miau\n",
      "---\n"
     ]
    }
   ],
   "source": [
    "for z in zoo:\n",
    "    print(z)\n",
    "    z.daj_glos()\n",
    "    print(\"---\")"
   ]
  }
 ],
 "metadata": {
  "kernelspec": {
   "display_name": "Python 3",
   "language": "python",
   "name": "python3"
  },
  "language_info": {
   "codemirror_mode": {
    "name": "ipython",
    "version": 3
   },
   "file_extension": ".py",
   "mimetype": "text/x-python",
   "name": "python",
   "nbconvert_exporter": "python",
   "pygments_lexer": "ipython3",
   "version": "3.10.7"
  }
 },
 "nbformat": 4,
 "nbformat_minor": 2
}
